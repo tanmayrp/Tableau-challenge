{
 "cells": [
  {
   "cell_type": "code",
   "execution_count": 1,
   "id": "stuffed-illustration",
   "metadata": {},
   "outputs": [],
   "source": [
    "import pandas as pd\n",
    "from datetime import datetime\n",
    "import numpy as np"
   ]
  },
  {
   "cell_type": "code",
   "execution_count": 2,
   "id": "marked-cincinnati",
   "metadata": {},
   "outputs": [],
   "source": [
    "data_2019_df = pd.read_csv(\"data/201906.csv\")\n",
    "data_2020_df = pd.read_csv(\"data/202006.csv\")\n",
    "data_2021_df = pd.read_csv(\"data/202106.csv\")"
   ]
  },
  {
   "cell_type": "code",
   "execution_count": null,
   "id": "clinical-bridges",
   "metadata": {},
   "outputs": [],
   "source": [
    "data_2019_df.head()"
   ]
  },
  {
   "cell_type": "code",
   "execution_count": null,
   "id": "outside-baghdad",
   "metadata": {},
   "outputs": [],
   "source": [
    "data_2020_df.head()"
   ]
  },
  {
   "cell_type": "code",
   "execution_count": null,
   "id": "bored-pipeline",
   "metadata": {},
   "outputs": [],
   "source": [
    "data_2021_df.head()"
   ]
  },
  {
   "cell_type": "code",
   "execution_count": null,
   "id": "indirect-phase",
   "metadata": {},
   "outputs": [],
   "source": [
    "list(data_2019_df.columns.values)\n"
   ]
  },
  {
   "cell_type": "code",
   "execution_count": null,
   "id": "verbal-distance",
   "metadata": {},
   "outputs": [],
   "source": [
    "list(data_2020_df.columns.values)"
   ]
  },
  {
   "cell_type": "code",
   "execution_count": null,
   "id": "acquired-johnson",
   "metadata": {},
   "outputs": [],
   "source": [
    "list(data_2021_df.columns.values)"
   ]
  },
  {
   "cell_type": "code",
   "execution_count": null,
   "id": "waiting-philippines",
   "metadata": {},
   "outputs": [],
   "source": [
    "data_2019_df.shape"
   ]
  },
  {
   "cell_type": "code",
   "execution_count": null,
   "id": "adaptive-andorra",
   "metadata": {},
   "outputs": [],
   "source": [
    "data_2020_df.shape"
   ]
  },
  {
   "cell_type": "code",
   "execution_count": null,
   "id": "unlikely-blend",
   "metadata": {},
   "outputs": [],
   "source": [
    "data_2021_df.shape"
   ]
  },
  {
   "cell_type": "markdown",
   "id": "coordinated-positive",
   "metadata": {},
   "source": [
    "Change Start Times into DateTime "
   ]
  },
  {
   "cell_type": "code",
   "execution_count": 3,
   "id": "reasonable-assurance",
   "metadata": {},
   "outputs": [],
   "source": [
    "data_2019_df['starttime'] = pd.to_datetime(data_2019_df['starttime'], errors='coerce')\n",
    "data_2020_df['starttime'] = pd.to_datetime(data_2020_df['starttime'], errors='coerce')\n",
    "data_2021_df['started_at'] = pd.to_datetime(data_2021_df['started_at'], errors='coerce')"
   ]
  },
  {
   "cell_type": "markdown",
   "id": "genetic-yeast",
   "metadata": {},
   "source": [
    "Extract Day/Month/Year into seperate columns"
   ]
  },
  {
   "cell_type": "code",
   "execution_count": 4,
   "id": "fantastic-handling",
   "metadata": {},
   "outputs": [],
   "source": [
    "data_2019_df['month'] = pd.DatetimeIndex(data_2019_df['starttime']).month\n",
    "data_2019_df['year'] = pd.DatetimeIndex(data_2019_df['starttime']).year\n",
    "data_2019_df['day'] = pd.DatetimeIndex(data_2019_df['starttime']).day\n",
    "\n",
    "data_2020_df['month'] = pd.DatetimeIndex(data_2020_df['starttime']).month\n",
    "data_2020_df['year'] = pd.DatetimeIndex(data_2020_df['starttime']).year\n",
    "data_2020_df['day'] = pd.DatetimeIndex(data_2020_df['starttime']).day\n",
    "\n",
    "data_2021_df['month'] = pd.DatetimeIndex(data_2021_df['started_at']).month\n",
    "data_2021_df['year'] = pd.DatetimeIndex(data_2021_df['started_at']).year\n",
    "data_2021_df['day'] = pd.DatetimeIndex(data_2021_df['started_at']).day"
   ]
  },
  {
   "cell_type": "markdown",
   "id": "incredible-carnival",
   "metadata": {},
   "source": [
    "Extract Hour field"
   ]
  },
  {
   "cell_type": "code",
   "execution_count": 8,
   "id": "educated-enlargement",
   "metadata": {},
   "outputs": [],
   "source": [
    "data_2019_df['hour'] = data_2019_df['starttime'].dt.hour\n",
    "data_2020_df['hour'] = data_2020_df['starttime'].dt.hour\n",
    "data_2021_df['hour'] = data_2021_df['started_at'].dt.hour"
   ]
  },
  {
   "cell_type": "code",
   "execution_count": 9,
   "id": "seeing-defensive",
   "metadata": {},
   "outputs": [
    {
     "data": {
      "text/html": [
       "<div>\n",
       "<style scoped>\n",
       "    .dataframe tbody tr th:only-of-type {\n",
       "        vertical-align: middle;\n",
       "    }\n",
       "\n",
       "    .dataframe tbody tr th {\n",
       "        vertical-align: top;\n",
       "    }\n",
       "\n",
       "    .dataframe thead th {\n",
       "        text-align: right;\n",
       "    }\n",
       "</style>\n",
       "<table border=\"1\" class=\"dataframe\">\n",
       "  <thead>\n",
       "    <tr style=\"text-align: right;\">\n",
       "      <th></th>\n",
       "      <th>tripduration</th>\n",
       "      <th>starttime</th>\n",
       "      <th>stoptime</th>\n",
       "      <th>start station id</th>\n",
       "      <th>start station name</th>\n",
       "      <th>start station latitude</th>\n",
       "      <th>start station longitude</th>\n",
       "      <th>end station id</th>\n",
       "      <th>end station name</th>\n",
       "      <th>end station latitude</th>\n",
       "      <th>end station longitude</th>\n",
       "      <th>bikeid</th>\n",
       "      <th>usertype</th>\n",
       "      <th>birth year</th>\n",
       "      <th>gender</th>\n",
       "      <th>month</th>\n",
       "      <th>year</th>\n",
       "      <th>day</th>\n",
       "      <th>hour</th>\n",
       "    </tr>\n",
       "  </thead>\n",
       "  <tbody>\n",
       "    <tr>\n",
       "      <th>39425</th>\n",
       "      <td>639</td>\n",
       "      <td>2019-06-30 23:38:29.545</td>\n",
       "      <td>2019-06-30 23:49:09.2110</td>\n",
       "      <td>3677</td>\n",
       "      <td>Glenwood Ave</td>\n",
       "      <td>40.727551</td>\n",
       "      <td>-74.071061</td>\n",
       "      <td>3191</td>\n",
       "      <td>Union St</td>\n",
       "      <td>40.718211</td>\n",
       "      <td>-74.083639</td>\n",
       "      <td>29197</td>\n",
       "      <td>Customer</td>\n",
       "      <td>1986</td>\n",
       "      <td>1</td>\n",
       "      <td>6</td>\n",
       "      <td>2019</td>\n",
       "      <td>30</td>\n",
       "      <td>23</td>\n",
       "    </tr>\n",
       "    <tr>\n",
       "      <th>39426</th>\n",
       "      <td>643</td>\n",
       "      <td>2019-06-30 23:38:34.910</td>\n",
       "      <td>2019-06-30 23:49:17.9690</td>\n",
       "      <td>3677</td>\n",
       "      <td>Glenwood Ave</td>\n",
       "      <td>40.727551</td>\n",
       "      <td>-74.071061</td>\n",
       "      <td>3191</td>\n",
       "      <td>Union St</td>\n",
       "      <td>40.718211</td>\n",
       "      <td>-74.083639</td>\n",
       "      <td>26262</td>\n",
       "      <td>Customer</td>\n",
       "      <td>1990</td>\n",
       "      <td>2</td>\n",
       "      <td>6</td>\n",
       "      <td>2019</td>\n",
       "      <td>30</td>\n",
       "      <td>23</td>\n",
       "    </tr>\n",
       "    <tr>\n",
       "      <th>39427</th>\n",
       "      <td>418</td>\n",
       "      <td>2019-06-30 23:42:30.940</td>\n",
       "      <td>2019-06-30 23:49:29.5360</td>\n",
       "      <td>3679</td>\n",
       "      <td>Bergen Ave</td>\n",
       "      <td>40.722104</td>\n",
       "      <td>-74.071455</td>\n",
       "      <td>3191</td>\n",
       "      <td>Union St</td>\n",
       "      <td>40.718211</td>\n",
       "      <td>-74.083639</td>\n",
       "      <td>29241</td>\n",
       "      <td>Subscriber</td>\n",
       "      <td>1979</td>\n",
       "      <td>1</td>\n",
       "      <td>6</td>\n",
       "      <td>2019</td>\n",
       "      <td>30</td>\n",
       "      <td>23</td>\n",
       "    </tr>\n",
       "    <tr>\n",
       "      <th>39428</th>\n",
       "      <td>2529</td>\n",
       "      <td>2019-06-30 23:46:17.570</td>\n",
       "      <td>2019-07-01 00:28:27.1710</td>\n",
       "      <td>3185</td>\n",
       "      <td>City Hall</td>\n",
       "      <td>40.717732</td>\n",
       "      <td>-74.043845</td>\n",
       "      <td>3213</td>\n",
       "      <td>Van Vorst Park</td>\n",
       "      <td>40.718489</td>\n",
       "      <td>-74.047727</td>\n",
       "      <td>26254</td>\n",
       "      <td>Subscriber</td>\n",
       "      <td>1982</td>\n",
       "      <td>1</td>\n",
       "      <td>6</td>\n",
       "      <td>2019</td>\n",
       "      <td>30</td>\n",
       "      <td>23</td>\n",
       "    </tr>\n",
       "    <tr>\n",
       "      <th>39429</th>\n",
       "      <td>831</td>\n",
       "      <td>2019-06-30 23:49:01.683</td>\n",
       "      <td>2019-07-01 00:02:53.1150</td>\n",
       "      <td>3210</td>\n",
       "      <td>Pershing Field</td>\n",
       "      <td>40.742677</td>\n",
       "      <td>-74.051789</td>\n",
       "      <td>3186</td>\n",
       "      <td>Grove St PATH</td>\n",
       "      <td>40.719586</td>\n",
       "      <td>-74.043117</td>\n",
       "      <td>29551</td>\n",
       "      <td>Subscriber</td>\n",
       "      <td>1988</td>\n",
       "      <td>1</td>\n",
       "      <td>6</td>\n",
       "      <td>2019</td>\n",
       "      <td>30</td>\n",
       "      <td>23</td>\n",
       "    </tr>\n",
       "  </tbody>\n",
       "</table>\n",
       "</div>"
      ],
      "text/plain": [
       "       tripduration               starttime                  stoptime  \\\n",
       "39425           639 2019-06-30 23:38:29.545  2019-06-30 23:49:09.2110   \n",
       "39426           643 2019-06-30 23:38:34.910  2019-06-30 23:49:17.9690   \n",
       "39427           418 2019-06-30 23:42:30.940  2019-06-30 23:49:29.5360   \n",
       "39428          2529 2019-06-30 23:46:17.570  2019-07-01 00:28:27.1710   \n",
       "39429           831 2019-06-30 23:49:01.683  2019-07-01 00:02:53.1150   \n",
       "\n",
       "       start station id start station name  start station latitude  \\\n",
       "39425              3677       Glenwood Ave               40.727551   \n",
       "39426              3677       Glenwood Ave               40.727551   \n",
       "39427              3679         Bergen Ave               40.722104   \n",
       "39428              3185          City Hall               40.717732   \n",
       "39429              3210     Pershing Field               40.742677   \n",
       "\n",
       "       start station longitude  end station id end station name  \\\n",
       "39425               -74.071061            3191         Union St   \n",
       "39426               -74.071061            3191         Union St   \n",
       "39427               -74.071455            3191         Union St   \n",
       "39428               -74.043845            3213   Van Vorst Park   \n",
       "39429               -74.051789            3186    Grove St PATH   \n",
       "\n",
       "       end station latitude  end station longitude  bikeid    usertype  \\\n",
       "39425             40.718211             -74.083639   29197    Customer   \n",
       "39426             40.718211             -74.083639   26262    Customer   \n",
       "39427             40.718211             -74.083639   29241  Subscriber   \n",
       "39428             40.718489             -74.047727   26254  Subscriber   \n",
       "39429             40.719586             -74.043117   29551  Subscriber   \n",
       "\n",
       "       birth year  gender  month  year  day  hour  \n",
       "39425        1986       1      6  2019   30    23  \n",
       "39426        1990       2      6  2019   30    23  \n",
       "39427        1979       1      6  2019   30    23  \n",
       "39428        1982       1      6  2019   30    23  \n",
       "39429        1988       1      6  2019   30    23  "
      ]
     },
     "execution_count": 9,
     "metadata": {},
     "output_type": "execute_result"
    }
   ],
   "source": [
    "data_2019_df.tail()"
   ]
  },
  {
   "cell_type": "code",
   "execution_count": 12,
   "id": "amazing-thought",
   "metadata": {},
   "outputs": [
    {
     "data": {
      "text/plain": [
       "tripduration                        int64\n",
       "starttime                  datetime64[ns]\n",
       "stoptime                           object\n",
       "start station id                    int64\n",
       "start station name                 object\n",
       "start station latitude            float64\n",
       "start station longitude           float64\n",
       "end station id                      int64\n",
       "end station name                   object\n",
       "end station latitude              float64\n",
       "end station longitude             float64\n",
       "bikeid                              int64\n",
       "usertype                           object\n",
       "birth year                          int64\n",
       "gender                              int64\n",
       "month                               int64\n",
       "year                                int64\n",
       "day                                 int64\n",
       "hour                                int64\n",
       "dtype: object"
      ]
     },
     "execution_count": 12,
     "metadata": {},
     "output_type": "execute_result"
    }
   ],
   "source": [
    "data_2019_df.dtypes\n"
   ]
  },
  {
   "cell_type": "code",
   "execution_count": null,
   "id": "intended-perry",
   "metadata": {},
   "outputs": [],
   "source": [
    "data_2019_df['genderStr'] = np.where(data_2019_df['gender']!= '[]', True, False)"
   ]
  },
  {
   "cell_type": "code",
   "execution_count": null,
   "id": "trying-celtic",
   "metadata": {},
   "outputs": [],
   "source": [
    "data_2019_df.tail()\n"
   ]
  },
  {
   "cell_type": "code",
   "execution_count": null,
   "id": "identified-wilson",
   "metadata": {},
   "outputs": [],
   "source": []
  }
 ],
 "metadata": {
  "kernelspec": {
   "display_name": "Python [conda env:PythonData]",
   "language": "python",
   "name": "conda-env-PythonData-py"
  },
  "language_info": {
   "codemirror_mode": {
    "name": "ipython",
    "version": 3
   },
   "file_extension": ".py",
   "mimetype": "text/x-python",
   "name": "python",
   "nbconvert_exporter": "python",
   "pygments_lexer": "ipython3",
   "version": "3.8.8"
  }
 },
 "nbformat": 4,
 "nbformat_minor": 5
}
