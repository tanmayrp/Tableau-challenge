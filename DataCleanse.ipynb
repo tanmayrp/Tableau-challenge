{
 "cells": [
  {
   "cell_type": "code",
   "execution_count": 1,
   "id": "stuffed-illustration",
   "metadata": {},
   "outputs": [],
   "source": [
    "import pandas as pd\n",
    "from datetime import datetime\n",
    "import numpy as np"
   ]
  },
  {
   "cell_type": "code",
   "execution_count": 2,
   "id": "marked-cincinnati",
   "metadata": {},
   "outputs": [],
   "source": [
    "data_2019_df = pd.read_csv(\"data/201906.csv\")\n",
    "data_2020_df = pd.read_csv(\"data/202006.csv\")"
   ]
  },
  {
   "cell_type": "code",
   "execution_count": 3,
   "id": "indirect-phase",
   "metadata": {},
   "outputs": [
    {
     "data": {
      "text/plain": [
       "['tripduration',\n",
       " 'starttime',\n",
       " 'stoptime',\n",
       " 'start station id',\n",
       " 'start station name',\n",
       " 'start station latitude',\n",
       " 'start station longitude',\n",
       " 'end station id',\n",
       " 'end station name',\n",
       " 'end station latitude',\n",
       " 'end station longitude',\n",
       " 'bikeid',\n",
       " 'usertype',\n",
       " 'birth year',\n",
       " 'gender']"
      ]
     },
     "execution_count": 3,
     "metadata": {},
     "output_type": "execute_result"
    }
   ],
   "source": [
    "list(data_2019_df.columns.values)"
   ]
  },
  {
   "cell_type": "code",
   "execution_count": 4,
   "id": "verbal-distance",
   "metadata": {},
   "outputs": [
    {
     "data": {
      "text/plain": [
       "['tripduration',\n",
       " 'starttime',\n",
       " 'stoptime',\n",
       " 'start station id',\n",
       " 'start station name',\n",
       " 'start station latitude',\n",
       " 'start station longitude',\n",
       " 'end station id',\n",
       " 'end station name',\n",
       " 'end station latitude',\n",
       " 'end station longitude',\n",
       " 'bikeid',\n",
       " 'usertype',\n",
       " 'birth year',\n",
       " 'gender']"
      ]
     },
     "execution_count": 4,
     "metadata": {},
     "output_type": "execute_result"
    }
   ],
   "source": [
    "list(data_2020_df.columns.values)"
   ]
  },
  {
   "cell_type": "code",
   "execution_count": 5,
   "id": "waiting-philippines",
   "metadata": {},
   "outputs": [
    {
     "data": {
      "text/plain": [
       "(39430, 15)"
      ]
     },
     "execution_count": 5,
     "metadata": {},
     "output_type": "execute_result"
    }
   ],
   "source": [
    "data_2019_df.shape"
   ]
  },
  {
   "cell_type": "code",
   "execution_count": 6,
   "id": "adaptive-andorra",
   "metadata": {},
   "outputs": [
    {
     "data": {
      "text/plain": [
       "(36921, 15)"
      ]
     },
     "execution_count": 6,
     "metadata": {},
     "output_type": "execute_result"
    }
   ],
   "source": [
    "data_2020_df.shape"
   ]
  },
  {
   "cell_type": "markdown",
   "id": "coordinated-positive",
   "metadata": {},
   "source": [
    "Change Start and Stop Times into DateTime "
   ]
  },
  {
   "cell_type": "code",
   "execution_count": 7,
   "id": "reasonable-assurance",
   "metadata": {},
   "outputs": [],
   "source": [
    "data_2019_df['starttime'] = pd.to_datetime(data_2019_df['starttime'], errors='coerce')\n",
    "data_2020_df['starttime'] = pd.to_datetime(data_2020_df['starttime'], errors='coerce')\n",
    "\n",
    "data_2019_df['stoptime'] = pd.to_datetime(data_2019_df['starttime'], errors='coerce')\n",
    "data_2020_df['stoptime'] = pd.to_datetime(data_2020_df['starttime'], errors='coerce')"
   ]
  },
  {
   "cell_type": "markdown",
   "id": "genetic-yeast",
   "metadata": {},
   "source": [
    "Extract Day/Month/Year into seperate columns"
   ]
  },
  {
   "cell_type": "code",
   "execution_count": 8,
   "id": "fantastic-handling",
   "metadata": {},
   "outputs": [],
   "source": [
    "data_2019_df['startMonth'] = pd.DatetimeIndex(data_2019_df['starttime']).month\n",
    "data_2019_df['startYear'] = pd.DatetimeIndex(data_2019_df['starttime']).year\n",
    "data_2019_df['startDay'] = pd.DatetimeIndex(data_2019_df['starttime']).day\n",
    "\n",
    "data_2020_df['startMonth'] = pd.DatetimeIndex(data_2020_df['starttime']).month\n",
    "data_2020_df['startYear'] = pd.DatetimeIndex(data_2020_df['starttime']).year\n",
    "data_2020_df['startDay'] = pd.DatetimeIndex(data_2020_df['starttime']).day\n",
    "\n",
    "data_2019_df['stopMonth'] = pd.DatetimeIndex(data_2019_df['stoptime']).month\n",
    "data_2019_df['stopYear'] = pd.DatetimeIndex(data_2019_df['stoptime']).year\n",
    "data_2019_df['startDay'] = pd.DatetimeIndex(data_2019_df['stoptime']).day\n",
    "\n",
    "data_2020_df['stopMonth'] = pd.DatetimeIndex(data_2020_df['stoptime']).month\n",
    "data_2020_df['stopYear'] = pd.DatetimeIndex(data_2020_df['stoptime']).year\n",
    "data_2020_df['stopDay'] = pd.DatetimeIndex(data_2020_df['stoptime']).day"
   ]
  },
  {
   "cell_type": "markdown",
   "id": "incredible-carnival",
   "metadata": {},
   "source": [
    "Extract Hour field"
   ]
  },
  {
   "cell_type": "code",
   "execution_count": 9,
   "id": "educated-enlargement",
   "metadata": {},
   "outputs": [],
   "source": [
    "data_2019_df['startHour'] = data_2019_df['starttime'].dt.hour\n",
    "data_2020_df['startHour'] = data_2020_df['starttime'].dt.hour"
   ]
  },
  {
   "cell_type": "markdown",
   "id": "varying-choice",
   "metadata": {},
   "source": [
    "Convert Gender Boolean to String Value"
   ]
  },
  {
   "cell_type": "code",
   "execution_count": 10,
   "id": "identified-wilson",
   "metadata": {},
   "outputs": [],
   "source": [
    "mapping = {1: 'Male', 2: 'Female', 0: 'Unknown'}\n",
    "data_2019_df['gender'] = data_2019_df['gender'].map(mapping)\n",
    "data_2020_df['gender'] = data_2020_df['gender'].map(mapping)\n"
   ]
  },
  {
   "cell_type": "code",
   "execution_count": 13,
   "id": "adjacent-scene",
   "metadata": {},
   "outputs": [],
   "source": [
    "# Partial Data\n",
    "# final_2019_df = data_2019_df[data_2019_df['startDay'] < 8]\n",
    "# final_2020_df = data_2020_df[data_2020_df['startDay'] < 8]\n",
    "\n",
    "# Full Data\n",
    "final_2019_df = data_2019_df\n",
    "final_2020_df = data_2020_df"
   ]
  },
  {
   "cell_type": "code",
   "execution_count": 14,
   "id": "auburn-inspector",
   "metadata": {},
   "outputs": [
    {
     "data": {
      "text/plain": [
       "(39430, 21)"
      ]
     },
     "execution_count": 14,
     "metadata": {},
     "output_type": "execute_result"
    }
   ],
   "source": [
    "final_2019_df.shape"
   ]
  },
  {
   "cell_type": "code",
   "execution_count": 15,
   "id": "metallic-expense",
   "metadata": {},
   "outputs": [
    {
     "data": {
      "text/plain": [
       "(36921, 22)"
      ]
     },
     "execution_count": 15,
     "metadata": {},
     "output_type": "execute_result"
    }
   ],
   "source": [
    "final_2020_df.shape"
   ]
  },
  {
   "cell_type": "code",
   "execution_count": 16,
   "id": "joint-directive",
   "metadata": {},
   "outputs": [],
   "source": [
    "from datetime import datetime, date\n",
    "def from_dob_to_age(birthYear):\n",
    "    today = date.today()\n",
    "    return today.year - birthYear"
   ]
  },
  {
   "cell_type": "code",
   "execution_count": 17,
   "id": "portuguese-vancouver",
   "metadata": {},
   "outputs": [],
   "source": [
    "final_2019_df['Age']=from_dob_to_age(final_2019_df['birth year'])\n",
    "final_2020_df['Age']=from_dob_to_age(final_2019_df['birth year'])"
   ]
  },
  {
   "cell_type": "code",
   "execution_count": 18,
   "id": "diagnostic-stretch",
   "metadata": {},
   "outputs": [
    {
     "data": {
      "text/html": [
       "<div>\n",
       "<style scoped>\n",
       "    .dataframe tbody tr th:only-of-type {\n",
       "        vertical-align: middle;\n",
       "    }\n",
       "\n",
       "    .dataframe tbody tr th {\n",
       "        vertical-align: top;\n",
       "    }\n",
       "\n",
       "    .dataframe thead th {\n",
       "        text-align: right;\n",
       "    }\n",
       "</style>\n",
       "<table border=\"1\" class=\"dataframe\">\n",
       "  <thead>\n",
       "    <tr style=\"text-align: right;\">\n",
       "      <th></th>\n",
       "      <th>tripduration</th>\n",
       "      <th>starttime</th>\n",
       "      <th>stoptime</th>\n",
       "      <th>start station id</th>\n",
       "      <th>start station name</th>\n",
       "      <th>start station latitude</th>\n",
       "      <th>start station longitude</th>\n",
       "      <th>end station id</th>\n",
       "      <th>end station name</th>\n",
       "      <th>end station latitude</th>\n",
       "      <th>...</th>\n",
       "      <th>birth year</th>\n",
       "      <th>gender</th>\n",
       "      <th>startMonth</th>\n",
       "      <th>startYear</th>\n",
       "      <th>startDay</th>\n",
       "      <th>stopMonth</th>\n",
       "      <th>stopYear</th>\n",
       "      <th>stopDay</th>\n",
       "      <th>startHour</th>\n",
       "      <th>Age</th>\n",
       "    </tr>\n",
       "  </thead>\n",
       "  <tbody>\n",
       "    <tr>\n",
       "      <th>0</th>\n",
       "      <td>122</td>\n",
       "      <td>2020-06-01 00:02:21.750</td>\n",
       "      <td>2020-06-01 00:02:21.750</td>\n",
       "      <td>3792</td>\n",
       "      <td>Columbus Dr at Exchange Pl</td>\n",
       "      <td>40.716870</td>\n",
       "      <td>-74.032810</td>\n",
       "      <td>3639</td>\n",
       "      <td>Harborside</td>\n",
       "      <td>40.719252</td>\n",
       "      <td>...</td>\n",
       "      <td>1987</td>\n",
       "      <td>Male</td>\n",
       "      <td>6</td>\n",
       "      <td>2020</td>\n",
       "      <td>1</td>\n",
       "      <td>6</td>\n",
       "      <td>2020</td>\n",
       "      <td>1</td>\n",
       "      <td>0</td>\n",
       "      <td>28</td>\n",
       "    </tr>\n",
       "    <tr>\n",
       "      <th>1</th>\n",
       "      <td>1282</td>\n",
       "      <td>2020-06-01 00:12:27.109</td>\n",
       "      <td>2020-06-01 00:12:27.109</td>\n",
       "      <td>3198</td>\n",
       "      <td>Heights Elevator</td>\n",
       "      <td>40.748716</td>\n",
       "      <td>-74.040443</td>\n",
       "      <td>3276</td>\n",
       "      <td>Marin Light Rail</td>\n",
       "      <td>40.714584</td>\n",
       "      <td>...</td>\n",
       "      <td>1988</td>\n",
       "      <td>Male</td>\n",
       "      <td>6</td>\n",
       "      <td>2020</td>\n",
       "      <td>1</td>\n",
       "      <td>6</td>\n",
       "      <td>2020</td>\n",
       "      <td>1</td>\n",
       "      <td>0</td>\n",
       "      <td>37</td>\n",
       "    </tr>\n",
       "    <tr>\n",
       "      <th>2</th>\n",
       "      <td>186</td>\n",
       "      <td>2020-06-01 01:19:59.209</td>\n",
       "      <td>2020-06-01 01:19:59.209</td>\n",
       "      <td>3275</td>\n",
       "      <td>Columbus Drive</td>\n",
       "      <td>40.718355</td>\n",
       "      <td>-74.038914</td>\n",
       "      <td>3681</td>\n",
       "      <td>Grand St</td>\n",
       "      <td>40.715178</td>\n",
       "      <td>...</td>\n",
       "      <td>1987</td>\n",
       "      <td>Male</td>\n",
       "      <td>6</td>\n",
       "      <td>2020</td>\n",
       "      <td>1</td>\n",
       "      <td>6</td>\n",
       "      <td>2020</td>\n",
       "      <td>1</td>\n",
       "      <td>1</td>\n",
       "      <td>52</td>\n",
       "    </tr>\n",
       "    <tr>\n",
       "      <th>3</th>\n",
       "      <td>131</td>\n",
       "      <td>2020-06-01 01:26:42.205</td>\n",
       "      <td>2020-06-01 01:26:42.205</td>\n",
       "      <td>3267</td>\n",
       "      <td>Morris Canal</td>\n",
       "      <td>40.712419</td>\n",
       "      <td>-74.038526</td>\n",
       "      <td>3681</td>\n",
       "      <td>Grand St</td>\n",
       "      <td>40.715178</td>\n",
       "      <td>...</td>\n",
       "      <td>1987</td>\n",
       "      <td>Male</td>\n",
       "      <td>6</td>\n",
       "      <td>2020</td>\n",
       "      <td>1</td>\n",
       "      <td>6</td>\n",
       "      <td>2020</td>\n",
       "      <td>1</td>\n",
       "      <td>1</td>\n",
       "      <td>52</td>\n",
       "    </tr>\n",
       "    <tr>\n",
       "      <th>4</th>\n",
       "      <td>266</td>\n",
       "      <td>2020-06-01 01:27:33.709</td>\n",
       "      <td>2020-06-01 01:27:33.709</td>\n",
       "      <td>3639</td>\n",
       "      <td>Harborside</td>\n",
       "      <td>40.719252</td>\n",
       "      <td>-74.034234</td>\n",
       "      <td>3186</td>\n",
       "      <td>Grove St PATH</td>\n",
       "      <td>40.719586</td>\n",
       "      <td>...</td>\n",
       "      <td>1972</td>\n",
       "      <td>Female</td>\n",
       "      <td>6</td>\n",
       "      <td>2020</td>\n",
       "      <td>1</td>\n",
       "      <td>6</td>\n",
       "      <td>2020</td>\n",
       "      <td>1</td>\n",
       "      <td>1</td>\n",
       "      <td>27</td>\n",
       "    </tr>\n",
       "  </tbody>\n",
       "</table>\n",
       "<p>5 rows × 23 columns</p>\n",
       "</div>"
      ],
      "text/plain": [
       "   tripduration               starttime                stoptime  \\\n",
       "0           122 2020-06-01 00:02:21.750 2020-06-01 00:02:21.750   \n",
       "1          1282 2020-06-01 00:12:27.109 2020-06-01 00:12:27.109   \n",
       "2           186 2020-06-01 01:19:59.209 2020-06-01 01:19:59.209   \n",
       "3           131 2020-06-01 01:26:42.205 2020-06-01 01:26:42.205   \n",
       "4           266 2020-06-01 01:27:33.709 2020-06-01 01:27:33.709   \n",
       "\n",
       "   start station id          start station name  start station latitude  \\\n",
       "0              3792  Columbus Dr at Exchange Pl               40.716870   \n",
       "1              3198            Heights Elevator               40.748716   \n",
       "2              3275              Columbus Drive               40.718355   \n",
       "3              3267                Morris Canal               40.712419   \n",
       "4              3639                  Harborside               40.719252   \n",
       "\n",
       "   start station longitude  end station id  end station name  \\\n",
       "0               -74.032810            3639        Harborside   \n",
       "1               -74.040443            3276  Marin Light Rail   \n",
       "2               -74.038914            3681          Grand St   \n",
       "3               -74.038526            3681          Grand St   \n",
       "4               -74.034234            3186     Grove St PATH   \n",
       "\n",
       "   end station latitude  ...  birth year  gender startMonth  startYear  \\\n",
       "0             40.719252  ...        1987    Male          6       2020   \n",
       "1             40.714584  ...        1988    Male          6       2020   \n",
       "2             40.715178  ...        1987    Male          6       2020   \n",
       "3             40.715178  ...        1987    Male          6       2020   \n",
       "4             40.719586  ...        1972  Female          6       2020   \n",
       "\n",
       "  startDay  stopMonth  stopYear  stopDay  startHour  Age  \n",
       "0        1          6      2020        1          0   28  \n",
       "1        1          6      2020        1          0   37  \n",
       "2        1          6      2020        1          1   52  \n",
       "3        1          6      2020        1          1   52  \n",
       "4        1          6      2020        1          1   27  \n",
       "\n",
       "[5 rows x 23 columns]"
      ]
     },
     "execution_count": 18,
     "metadata": {},
     "output_type": "execute_result"
    }
   ],
   "source": [
    "final_2020_df.head()"
   ]
  },
  {
   "cell_type": "code",
   "execution_count": 19,
   "id": "american-empire",
   "metadata": {},
   "outputs": [],
   "source": [
    "final_2019_df.to_csv('full_final_2019_df.csv', index=False)  \n",
    "final_2020_df.to_csv('full_final_2020_df.csv', index=False)  \n"
   ]
  },
  {
   "cell_type": "code",
   "execution_count": null,
   "id": "ready-number",
   "metadata": {},
   "outputs": [],
   "source": []
  }
 ],
 "metadata": {
  "kernelspec": {
   "display_name": "Python [conda env:PythonData]",
   "language": "python",
   "name": "conda-env-PythonData-py"
  },
  "language_info": {
   "codemirror_mode": {
    "name": "ipython",
    "version": 3
   },
   "file_extension": ".py",
   "mimetype": "text/x-python",
   "name": "python",
   "nbconvert_exporter": "python",
   "pygments_lexer": "ipython3",
   "version": "3.8.8"
  }
 },
 "nbformat": 4,
 "nbformat_minor": 5
}
